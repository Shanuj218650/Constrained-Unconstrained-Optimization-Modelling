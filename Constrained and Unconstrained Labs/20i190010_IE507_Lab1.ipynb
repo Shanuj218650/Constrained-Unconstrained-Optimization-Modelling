{
  "nbformat": 4,
  "nbformat_minor": 0,
  "metadata": {
    "colab": {
      "name": "20i190010_IE507_Lab1.ipynb",
      "provenance": [],
      "collapsed_sections": []
    },
    "kernelspec": {
      "name": "python3",
      "display_name": "Python 3"
    }
  },
  "cells": [
    {
      "cell_type": "code",
      "metadata": {
        "id": "Q0l7V2jGcSDs",
        "colab_type": "code",
        "colab": {
          "base_uri": "https://localhost:8080/",
          "height": 90
        },
        "outputId": "f4dbc572-73f4-489f-f382-4fb5f7922d44"
      },
      "source": [
        "!pip install -q pyomo"
      ],
      "execution_count": null,
      "outputs": [
        {
          "output_type": "stream",
          "text": [
            "\u001b[K     |████████████████████████████████| 9.0MB 4.7MB/s \n",
            "\u001b[K     |████████████████████████████████| 51kB 6.1MB/s \n",
            "\u001b[K     |████████████████████████████████| 256kB 45.9MB/s \n",
            "\u001b[K     |████████████████████████████████| 163kB 42.0MB/s \n",
            "\u001b[?25h"
          ],
          "name": "stdout"
        }
      ]
    },
    {
      "cell_type": "markdown",
      "metadata": {
        "id": "p3H-HQrIcq4P",
        "colab_type": "text"
      },
      "source": [
        "EXERCISE 2\n",
        "\n",
        "Consider the following optimisation problem:\n",
        "\n",
        "max 0.043x1+ 0.027x2+ 0.025x3+ 0.022x4+ 0.045x5−0.0275y   \n",
        "\n",
        "s.t.\n",
        "\n",
        "x1+x2+x3+x4+x5−y≤100 \n",
        "\n",
        "x2+x3+x4≥60\n",
        "     \n",
        "  (2x1+ 2x2 + x3 + x4 + 5x5) / (x1 + x2 + x3 + x4 + x5)≤1.49  \n",
        "  \n",
        "  ( x1 + 15x2 + 4x3 + 3x4 + 2x5) / (x1 + x2 + x3 + x5) ≤5  \n",
        "  \n",
        "   x1, x2, x3, x4, x5≥0     y∈[0,5]\n",
        "\n",
        "   CONVERT THE ABOVE PROGRAMMING PROBLEM INTO LINEAR PROGRAMMING PROBLEM \n",
        "    THE LINEAR PROGRAMMING PROBLEM IS \n",
        "\n",
        "max 0.043x1+ 0.027x2+ 0.025x3+ 0.022x4+ 0.045x5−0.0275y\n",
        "\n",
        " s.t.\n",
        "\n",
        " x1+x2+x3+x4+x5−y≤100 \n",
        "\n",
        "x2+x3+x4≥60\n",
        "\n",
        "0.6x1 + 0.6x2 - 0.4x3 - 0.4x4 + 3.6x5 <=0\n",
        "\n",
        "4x1 + 10x2 - x3 + 3x4 - 3x5 <=0\n",
        "\n",
        "x1, x2, x3, x4, x5≥0     y∈[0,5]\n",
        "\n"
      ]
    },
    {
      "cell_type": "code",
      "metadata": {
        "id": "cbibQQmkfgGJ",
        "colab_type": "code",
        "colab": {}
      },
      "source": [
        "from pyomo.environ import*"
      ],
      "execution_count": null,
      "outputs": []
    },
    {
      "cell_type": "code",
      "metadata": {
        "id": "36sLr_YBfprL",
        "colab_type": "code",
        "colab": {}
      },
      "source": [
        "#create a model\n",
        "model=ConcreteModel()\n"
      ],
      "execution_count": null,
      "outputs": []
    },
    {
      "cell_type": "code",
      "metadata": {
        "id": "DG9hILZ7fzjr",
        "colab_type": "code",
        "colab": {}
      },
      "source": [
        "#declare decision variable\n",
        "model.x1=Var(domain=Reals)\n",
        "model.x2=Var(domain=Reals)\n",
        "model.x3=Var(domain=Reals)\n",
        "model.x4=Var(domain=Reals)\n",
        "model.x5=Var(domain=Reals)\n",
        "model.y=Var(domain=Reals)"
      ],
      "execution_count": null,
      "outputs": []
    },
    {
      "cell_type": "code",
      "metadata": {
        "id": "pI7KbULOgM9k",
        "colab_type": "code",
        "colab": {}
      },
      "source": [
        "#declare objective\n",
        "model.cost = Objective(expr = 0.043*model.x1 + 0.027*model.x2 + 0.025*model.x3 + 0.022*model.x4 + 0.045*model.x5 - 0.027*model.y, sense=maximize)"
      ],
      "execution_count": null,
      "outputs": []
    },
    {
      "cell_type": "code",
      "metadata": {
        "id": "B7P8l8TKg4lo",
        "colab_type": "code",
        "colab": {}
      },
      "source": [
        "#declare constraint\n",
        "model.con1=Constraint(expr= model.x1 + model.x2 +model.x3 +model.x4 + model.x5 - model.y <=100 )\n",
        "model.con2=Constraint(expr= model.x2 + model.x3 + model.x4  >=60  )\n",
        "model.con3=Constraint(expr= 0.6*model.x1 + 0.6*model.x2 - 0.4*model.x3 -0.4*model.x4 +3.6*model.x5 <=0)\n",
        "model.con4=Constraint(expr= 4*model.x1 + 10*model.x2 - model.x3 + 3*model.x4 -3*model.x5 <=0 )\n",
        "model.con5=Constraint(expr= model.x1 >=0)\n",
        "model.con6=Constraint(expr= model.x2 >=0)\n",
        "model.con7=Constraint(expr= model.x3 >=0)\n",
        "model.con8=Constraint(expr= model.x4 >=0)\n",
        "model.con9=Constraint(expr= model.x5 >=0)\n",
        "model.con10=Constraint(expr=model.y>=0)\n",
        "model.con11=Constraint(expr=model.y<=5)"
      ],
      "execution_count": null,
      "outputs": []
    },
    {
      "cell_type": "code",
      "metadata": {
        "id": "h_t-9RsLjP0R",
        "colab_type": "code",
        "colab": {
          "base_uri": "https://localhost:8080/",
          "height": 1000
        },
        "outputId": "4ffd8e69-8332-4c56-f13d-eab18c779962"
      },
      "source": [
        "#printing the model\n",
        "model.pprint()"
      ],
      "execution_count": null,
      "outputs": [
        {
          "output_type": "stream",
          "text": [
            "6 Var Declarations\n",
            "    x1 : Size=1, Index=None\n",
            "        Key  : Lower : Value : Upper : Fixed : Stale : Domain\n",
            "        None :  None :  None :  None : False :  True :  Reals\n",
            "    x2 : Size=1, Index=None\n",
            "        Key  : Lower : Value : Upper : Fixed : Stale : Domain\n",
            "        None :  None :  None :  None : False :  True :  Reals\n",
            "    x3 : Size=1, Index=None\n",
            "        Key  : Lower : Value : Upper : Fixed : Stale : Domain\n",
            "        None :  None :  None :  None : False :  True :  Reals\n",
            "    x4 : Size=1, Index=None\n",
            "        Key  : Lower : Value : Upper : Fixed : Stale : Domain\n",
            "        None :  None :  None :  None : False :  True :  Reals\n",
            "    x5 : Size=1, Index=None\n",
            "        Key  : Lower : Value : Upper : Fixed : Stale : Domain\n",
            "        None :  None :  None :  None : False :  True :  Reals\n",
            "    y : Size=1, Index=None\n",
            "        Key  : Lower : Value : Upper : Fixed : Stale : Domain\n",
            "        None :  None :  None :  None : False :  True :  Reals\n",
            "\n",
            "1 Objective Declarations\n",
            "    cost : Size=1, Index=None, Active=True\n",
            "        Key  : Active : Sense    : Expression\n",
            "        None :   True : maximize : 0.043*x1 + 0.027*x2 + 0.025*x3 + 0.022*x4 + 0.045*x5 - 0.027*y\n",
            "\n",
            "11 Constraint Declarations\n",
            "    con1 : Size=1, Index=None, Active=True\n",
            "        Key  : Lower : Body                       : Upper : Active\n",
            "        None :  -Inf : x1 + x2 + x3 + x4 + x5 - y : 100.0 :   True\n",
            "    con10 : Size=1, Index=None, Active=True\n",
            "        Key  : Lower : Body : Upper : Active\n",
            "        None :   0.0 :    y :  +Inf :   True\n",
            "    con11 : Size=1, Index=None, Active=True\n",
            "        Key  : Lower : Body : Upper : Active\n",
            "        None :  -Inf :    y :   5.0 :   True\n",
            "    con2 : Size=1, Index=None, Active=True\n",
            "        Key  : Lower : Body         : Upper : Active\n",
            "        None :  60.0 : x2 + x3 + x4 :  +Inf :   True\n",
            "    con3 : Size=1, Index=None, Active=True\n",
            "        Key  : Lower : Body                                       : Upper : Active\n",
            "        None :  -Inf : 0.6*x1 + 0.6*x2 - 0.4*x3 - 0.4*x4 + 3.6*x5 :   0.0 :   True\n",
            "    con4 : Size=1, Index=None, Active=True\n",
            "        Key  : Lower : Body                            : Upper : Active\n",
            "        None :  -Inf : 4*x1 + 10*x2 - x3 + 3*x4 - 3*x5 :   0.0 :   True\n",
            "    con5 : Size=1, Index=None, Active=True\n",
            "        Key  : Lower : Body : Upper : Active\n",
            "        None :   0.0 :   x1 :  +Inf :   True\n",
            "    con6 : Size=1, Index=None, Active=True\n",
            "        Key  : Lower : Body : Upper : Active\n",
            "        None :   0.0 :   x2 :  +Inf :   True\n",
            "    con7 : Size=1, Index=None, Active=True\n",
            "        Key  : Lower : Body : Upper : Active\n",
            "        None :   0.0 :   x3 :  +Inf :   True\n",
            "    con8 : Size=1, Index=None, Active=True\n",
            "        Key  : Lower : Body : Upper : Active\n",
            "        None :   0.0 :   x4 :  +Inf :   True\n",
            "    con9 : Size=1, Index=None, Active=True\n",
            "        Key  : Lower : Body : Upper : Active\n",
            "        None :   0.0 :   x5 :  +Inf :   True\n",
            "\n",
            "18 Declarations: x1 x2 x3 x4 x5 y cost con1 con2 con3 con4 con5 con6 con7 con8 con9 con10 con11\n"
          ],
          "name": "stdout"
        }
      ]
    },
    {
      "cell_type": "code",
      "metadata": {
        "id": "bW11KJPRjgD0",
        "colab_type": "code",
        "colab": {
          "base_uri": "https://localhost:8080/",
          "height": 476
        },
        "outputId": "8e633e68-8b50-42f7-8710-2196176fcb1d"
      },
      "source": [
        "!apt-get install -y -qq glpk-utils"
      ],
      "execution_count": null,
      "outputs": [
        {
          "output_type": "stream",
          "text": [
            "Selecting previously unselected package libsuitesparseconfig5:amd64.\n",
            "(Reading database ... 144487 files and directories currently installed.)\n",
            "Preparing to unpack .../libsuitesparseconfig5_1%3a5.1.2-2_amd64.deb ...\n",
            "Unpacking libsuitesparseconfig5:amd64 (1:5.1.2-2) ...\n",
            "Selecting previously unselected package libamd2:amd64.\n",
            "Preparing to unpack .../libamd2_1%3a5.1.2-2_amd64.deb ...\n",
            "Unpacking libamd2:amd64 (1:5.1.2-2) ...\n",
            "Selecting previously unselected package libcolamd2:amd64.\n",
            "Preparing to unpack .../libcolamd2_1%3a5.1.2-2_amd64.deb ...\n",
            "Unpacking libcolamd2:amd64 (1:5.1.2-2) ...\n",
            "Selecting previously unselected package libglpk40:amd64.\n",
            "Preparing to unpack .../libglpk40_4.65-1_amd64.deb ...\n",
            "Unpacking libglpk40:amd64 (4.65-1) ...\n",
            "Selecting previously unselected package glpk-utils.\n",
            "Preparing to unpack .../glpk-utils_4.65-1_amd64.deb ...\n",
            "Unpacking glpk-utils (4.65-1) ...\n",
            "Setting up libsuitesparseconfig5:amd64 (1:5.1.2-2) ...\n",
            "Setting up libcolamd2:amd64 (1:5.1.2-2) ...\n",
            "Setting up libamd2:amd64 (1:5.1.2-2) ...\n",
            "Setting up libglpk40:amd64 (4.65-1) ...\n",
            "Setting up glpk-utils (4.65-1) ...\n",
            "Processing triggers for libc-bin (2.27-3ubuntu1) ...\n",
            "/sbin/ldconfig.real: /usr/local/lib/python3.6/dist-packages/ideep4py/lib/libmkldnn.so.0 is not a symbolic link\n",
            "\n",
            "Processing triggers for man-db (2.8.3-2ubuntu0.1) ...\n"
          ],
          "name": "stdout"
        }
      ]
    },
    {
      "cell_type": "code",
      "metadata": {
        "id": "G14jM-nFkBWg",
        "colab_type": "code",
        "colab": {
          "base_uri": "https://localhost:8080/",
          "height": 623
        },
        "outputId": "52fdd583-bde9-429b-af14-87abb4d2cb77"
      },
      "source": [
        "SolverFactory('glpk', executable='/usr/bin/glpsol').solve(model).write()"
      ],
      "execution_count": null,
      "outputs": [
        {
          "output_type": "stream",
          "text": [
            "# ==========================================================\n",
            "# = Solver Results                                         =\n",
            "# ==========================================================\n",
            "# ----------------------------------------------------------\n",
            "#   Problem Information\n",
            "# ----------------------------------------------------------\n",
            "Problem: \n",
            "- Name: unknown\n",
            "  Lower bound: 2.99781818181818\n",
            "  Upper bound: 2.99781818181818\n",
            "  Number of objectives: 1\n",
            "  Number of constraints: 12\n",
            "  Number of variables: 7\n",
            "  Number of nonzeros: 27\n",
            "  Sense: maximize\n",
            "# ----------------------------------------------------------\n",
            "#   Solver Information\n",
            "# ----------------------------------------------------------\n",
            "Solver: \n",
            "- Status: ok\n",
            "  Termination condition: optimal\n",
            "  Statistics: \n",
            "    Branch and bound: \n",
            "      Number of bounded subproblems: 0\n",
            "      Number of created subproblems: 0\n",
            "  Error rc: 0\n",
            "  Time: 0.01125025749206543\n",
            "# ----------------------------------------------------------\n",
            "#   Solution Information\n",
            "# ----------------------------------------------------------\n",
            "Solution: \n",
            "- number of solutions: 0\n",
            "  number of solutions displayed: 0\n"
          ],
          "name": "stdout"
        }
      ]
    },
    {
      "cell_type": "code",
      "metadata": {
        "id": "kj7wPJLpkh0D",
        "colab_type": "code",
        "colab": {
          "base_uri": "https://localhost:8080/",
          "height": 439
        },
        "outputId": "c00d3353-264e-4c1e-a0d6-458e520bb52a"
      },
      "source": [
        "#display solution\n",
        "print('\\nCost = ', model.cost())\n",
        "\n",
        "print('\\nDecision Variables')\n",
        "print('x1 = ', model.x1())\n",
        "print('x2 = ', model.x2())\n",
        "print('x3 = ', model.x3())\n",
        "print('x4 = ', model.x4())\n",
        "print('x5 = ', model.x5())\n",
        "print('y = ', model.y())\n",
        " \n",
        "\n",
        "print('\\nConstraints')\n",
        "print('Constraint 1 =',model.con1())\n",
        "print('Constraint 2 =',model.con2())\n",
        "print('Constraint 3 =',model.con3())\n",
        "print('Constraint 4 =',model.con4())\n",
        "print('Constraint 5 =',model.con5())\n",
        "print('Constraint 6 =',model.con6())\n",
        "print('Constraint 7 =',model.con7())\n",
        "print('Constraint 8 =',model.con8())\n",
        "print('Constraint 9 =',model.con9())\n",
        "print('Constraint 10 =',model.con10())\n",
        "print('Constraint 11=',model.con11())\n"
      ],
      "execution_count": null,
      "outputs": [
        {
          "output_type": "stream",
          "text": [
            "\n",
            "Cost =  2.9978181818181815\n",
            "\n",
            "Decision Variables\n",
            "x1 =  22.9090909090909\n",
            "x2 =  0.0\n",
            "x3 =  77.3181818181818\n",
            "x4 =  0.0\n",
            "x5 =  4.77272727272727\n",
            "y =  5.0\n",
            "\n",
            "Constraints\n",
            "Constraint 1 = 99.99999999999996\n",
            "Constraint 2 = 77.3181818181818\n",
            "Constraint 3 = -1.0658141036401503e-14\n",
            "Constraint 4 = -1.0658141036401503e-14\n",
            "Constraint 5 = 22.9090909090909\n",
            "Constraint 6 = 0.0\n",
            "Constraint 7 = 77.3181818181818\n",
            "Constraint 8 = 0.0\n",
            "Constraint 9 = 4.77272727272727\n",
            "Constraint 10 = 5.0\n",
            "Constraint 11= 5.0\n"
          ],
          "name": "stdout"
        }
      ]
    },
    {
      "cell_type": "markdown",
      "metadata": {
        "id": "4bLQaOcXlQe-",
        "colab_type": "text"
      },
      "source": [
        "(1) Rewrite the optimization problem as a linear program.\n",
        "The linear programming  problem is  \n",
        "\n",
        "\n",
        "max 0.043x1+ 0.027x2+ 0.025x3+ 0.022x4+ 0.045x5−0.0275y\n",
        "\n",
        " s.t.\n",
        "\n",
        " x1+x2+x3+x4+x5−y≤100 \n",
        "\n",
        "x2+x3+x4≥60\n",
        "\n",
        "0.6x1 + 0.6x2 - 0.4x3 - 0.4x4 + 3.6x5 <=0\n",
        "\n",
        "4x1 + 10x2 - x3 + 3x4 - 3x5 <=0\n",
        "\n",
        "x1, x2, x3, x4, x5≥0     y∈[0,5]\n",
        "\n",
        "\n",
        "(3) Report the optimal solution value , the value of the variable at the optimal solution and the activities of all constraints of the L.P. model.\n",
        "\n",
        " The optimal solution value = 2.9978181818181815\n",
        "\n",
        " The values of variables at the optimal solution are \n",
        "\n",
        " x1 =  22.9090909090909    \n",
        "x2 =  0.0    \n",
        "x3 =  77.3181818181818     \n",
        "x4 =  0.0     \n",
        "x5 =  4.77272727272727    \n",
        "y =  5.0    \n",
        " \n",
        "\n",
        " The activities of constraints are\n",
        "\n",
        " Constraint 1 = 99.99999999999996       \n",
        "Constraint 2 = 77.3181818181818      \n",
        "Constraint 3 = -1.0658141036401503e-14     \n",
        "Constraint 4 = -1.0658141036401503e-14     \n",
        "Constraint 5 = 22.9090909090909     \n",
        "Constraint 6 = 0.0     \n",
        "Constraint 7 = 77.3181818181818     \n",
        "Constraint 8 = 0.0     \n",
        "Constraint 9 = 4.77272727272727     \n",
        "Constraint 10 = 5.0    \n",
        "Constraint 11= 5.0    "
      ]
    }
  ]
}