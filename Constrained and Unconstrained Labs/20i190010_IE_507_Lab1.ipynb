{
  "nbformat": 4,
  "nbformat_minor": 0,
  "metadata": {
    "colab": {
      "name": "20i190010_IE 507_Lab1.ipynb",
      "provenance": []
    },
    "kernelspec": {
      "name": "python3",
      "display_name": "Python 3"
    }
  },
  "cells": [
    {
      "cell_type": "code",
      "metadata": {
        "id": "agN9jm-viIed",
        "colab_type": "code",
        "colab": {
          "base_uri": "https://localhost:8080/",
          "height": 35
        },
        "outputId": "3d9adaaf-8ae1-4b7f-f8b8-a0e3fcb91392"
      },
      "source": [
        "print('hello IE 507')"
      ],
      "execution_count": null,
      "outputs": [
        {
          "output_type": "stream",
          "text": [
            "hello IE 507\n"
          ],
          "name": "stdout"
        }
      ]
    },
    {
      "cell_type": "code",
      "metadata": {
        "id": "QceWFshYiTaL",
        "colab_type": "code",
        "colab": {}
      },
      "source": [
        "! pip install -q pyomo\n"
      ],
      "execution_count": null,
      "outputs": []
    },
    {
      "cell_type": "markdown",
      "metadata": {
        "id": "uuuanR8rilLr",
        "colab_type": "text"
      },
      "source": [
        "EXERCISE 1\n",
        "\n",
        "min 2x1 + 15x2 - 4x3 - 6x4 + 7x5 - 9x6 - 1.6x7\n",
        "\n",
        "s.t.\n",
        "\n",
        "x1 + x2 + x3 + x4 + x5 + x6 + x7 =200 \n",
        "\n",
        "x1 + x2 >= 10\n",
        "\n",
        "4 x3 + 2 x6 + 3 x7 <= 150\n",
        "\n",
        "10 x1 - x6 + 3 x5 >= 20\n",
        "\n",
        "x3 - x5 + 3 x7 >= 10\n",
        "\n",
        "x1 >= 0  \n",
        "   x2 >= 12   \n",
        "x3>= -10    \n",
        "x4 >= 8     \n",
        "x5 >= 9     \n",
        "x6 >= -1   \n",
        "x7 >=0\n",
        "\n",
        "\n",
        "\n",
        "\n"
      ]
    },
    {
      "cell_type": "code",
      "metadata": {
        "id": "2y8rZ0YvminW",
        "colab_type": "code",
        "colab": {}
      },
      "source": [
        "from pyomo.environ import*"
      ],
      "execution_count": null,
      "outputs": []
    },
    {
      "cell_type": "code",
      "metadata": {
        "id": "q0HSV_9vmpWp",
        "colab_type": "code",
        "colab": {}
      },
      "source": [
        "#create a model\n",
        "model=ConcreteModel()"
      ],
      "execution_count": null,
      "outputs": []
    },
    {
      "cell_type": "code",
      "metadata": {
        "id": "jMW0Lm1Jm0_Z",
        "colab_type": "code",
        "colab": {}
      },
      "source": [
        "#declare decision variables\n",
        "model.x1=Var(domain=Reals)\n",
        "model.x2=Var(domain=Reals)\n",
        "model.x3=Var(domain=Reals)\n",
        "model.x4=Var(domain=Reals)\n",
        "model.x5=Var(domain=Reals)\n",
        "model.x6=Var(domain=Reals)\n",
        "model.x7=Var(domain=Reals)"
      ],
      "execution_count": null,
      "outputs": []
    },
    {
      "cell_type": "code",
      "metadata": {
        "id": "gjpVLotkrTir",
        "colab_type": "code",
        "colab": {}
      },
      "source": [
        "#declare Objective\n",
        "model.cost = Objective(expr = 2*model.x1 + 15*model.x2 - 4*model.x3 - 6*model.x4 + 7*model.x5 - 9*model.x6 - 1.6*model.x7, sense=minimize)"
      ],
      "execution_count": null,
      "outputs": []
    },
    {
      "cell_type": "code",
      "metadata": {
        "id": "KS9OXwZhsFkb",
        "colab_type": "code",
        "colab": {}
      },
      "source": [
        "#declare constraints\n",
        "model.con1=Constraint(expr= model.x1 + model.x2 + model.x3 + model.x4 + model.x5 + model.x6 + model.x7 == 200 )\n",
        "model.con2=Constraint(expr= model.x1 + model.x2 >=10 )\n",
        "model.con3=Constraint(expr= 4*model.x3 +2*model.x6 + 3*model.x7 <= 150  )\n",
        "model.con4=Constraint(expr= 10*model.x1 - model.x6 + 3*model.x5 >=20 )\n",
        "model.con5=Constraint(expr= model.x3 - model.x5 + 3*model.x7 >=10 )\n",
        "model.con6=Constraint(expr= model.x1 >= 0 )\n",
        "model.con7=Constraint(expr= model.x2 >= 12 )\n",
        "model.con8=Constraint(expr= model.x3 >= -10 )\n",
        "model.con9=Constraint(expr= model.x4 >= 8 )\n",
        "model.con10=Constraint(expr= model.x5 >= 9 )\n",
        "model.con11=Constraint(expr= model.x6 >= -1 )\n",
        "model.con12=Constraint(expr= model.x7 >= 0 )"
      ],
      "execution_count": null,
      "outputs": []
    },
    {
      "cell_type": "code",
      "metadata": {
        "id": "bkggiWxpvVY0",
        "colab_type": "code",
        "colab": {
          "base_uri": "https://localhost:8080/",
          "height": 1000
        },
        "outputId": "2447499c-43d3-485c-8337-6f02a35a5419"
      },
      "source": [
        "#printing the model\n",
        "model.pprint()"
      ],
      "execution_count": null,
      "outputs": [
        {
          "output_type": "stream",
          "text": [
            "7 Var Declarations\n",
            "    x1 : Size=1, Index=None\n",
            "        Key  : Lower : Value : Upper : Fixed : Stale : Domain\n",
            "        None :  None :  None :  None : False :  True :  Reals\n",
            "    x2 : Size=1, Index=None\n",
            "        Key  : Lower : Value : Upper : Fixed : Stale : Domain\n",
            "        None :  None :  None :  None : False :  True :  Reals\n",
            "    x3 : Size=1, Index=None\n",
            "        Key  : Lower : Value : Upper : Fixed : Stale : Domain\n",
            "        None :  None :  None :  None : False :  True :  Reals\n",
            "    x4 : Size=1, Index=None\n",
            "        Key  : Lower : Value : Upper : Fixed : Stale : Domain\n",
            "        None :  None :  None :  None : False :  True :  Reals\n",
            "    x5 : Size=1, Index=None\n",
            "        Key  : Lower : Value : Upper : Fixed : Stale : Domain\n",
            "        None :  None :  None :  None : False :  True :  Reals\n",
            "    x6 : Size=1, Index=None\n",
            "        Key  : Lower : Value : Upper : Fixed : Stale : Domain\n",
            "        None :  None :  None :  None : False :  True :  Reals\n",
            "    x7 : Size=1, Index=None\n",
            "        Key  : Lower : Value : Upper : Fixed : Stale : Domain\n",
            "        None :  None :  None :  None : False :  True :  Reals\n",
            "\n",
            "1 Objective Declarations\n",
            "    cost : Size=1, Index=None, Active=True\n",
            "        Key  : Active : Sense    : Expression\n",
            "        None :   True : minimize : 2*x1 + 15*x2 - 4*x3 - 6*x4 + 7*x5 - 9*x6 - 1.6*x7\n",
            "\n",
            "13 Constraint Declarations\n",
            "    con1 : Size=1, Index=None, Active=True\n",
            "        Key  : Lower : Body                             : Upper : Active\n",
            "        None : 200.0 : x1 + x2 + x3 + x4 + x5 + x6 + x7 :  +Inf :   True\n",
            "    con10 : Size=1, Index=None, Active=True\n",
            "        Key  : Lower : Body : Upper : Active\n",
            "        None :   8.0 :   x4 :  +Inf :   True\n",
            "    con11 : Size=1, Index=None, Active=True\n",
            "        Key  : Lower : Body : Upper : Active\n",
            "        None :   9.0 :   x5 :  +Inf :   True\n",
            "    con12 : Size=1, Index=None, Active=True\n",
            "        Key  : Lower : Body : Upper : Active\n",
            "        None :  -1.0 :   x6 :  +Inf :   True\n",
            "    con13 : Size=1, Index=None, Active=True\n",
            "        Key  : Lower : Body : Upper : Active\n",
            "        None :   0.0 :   x7 :  +Inf :   True\n",
            "    con2 : Size=1, Index=None, Active=True\n",
            "        Key  : Lower : Body                             : Upper : Active\n",
            "        None :  -Inf : x1 + x2 + x3 + x4 + x5 + x6 + x7 : 200.0 :   True\n",
            "    con3 : Size=1, Index=None, Active=True\n",
            "        Key  : Lower : Body    : Upper : Active\n",
            "        None :  10.0 : x1 + x2 :  +Inf :   True\n",
            "    con4 : Size=1, Index=None, Active=True\n",
            "        Key  : Lower : Body               : Upper : Active\n",
            "        None :  -Inf : 4*x3 + 2*x6 + 3*x7 : 150.0 :   True\n",
            "    con5 : Size=1, Index=None, Active=True\n",
            "        Key  : Lower : Body              : Upper : Active\n",
            "        None :  20.0 : 10*x1 - x6 + 3*x5 :  +Inf :   True\n",
            "    con6 : Size=1, Index=None, Active=True\n",
            "        Key  : Lower : Body           : Upper : Active\n",
            "        None :  10.0 : x3 - x5 + 3*x7 :  +Inf :   True\n",
            "    con7 : Size=1, Index=None, Active=True\n",
            "        Key  : Lower : Body : Upper : Active\n",
            "        None :   0.0 :   x1 :  +Inf :   True\n",
            "    con8 : Size=1, Index=None, Active=True\n",
            "        Key  : Lower : Body : Upper : Active\n",
            "        None :  12.0 :   x2 :  +Inf :   True\n",
            "    con9 : Size=1, Index=None, Active=True\n",
            "        Key  : Lower : Body : Upper : Active\n",
            "        None : -10.0 :   x3 :  +Inf :   True\n",
            "\n",
            "21 Declarations: x1 x2 x3 x4 x5 x6 x7 cost con1 con2 con3 con4 con5 con6 con7 con8 con9 con10 con11 con12 con13\n"
          ],
          "name": "stdout"
        }
      ]
    },
    {
      "cell_type": "code",
      "metadata": {
        "id": "HtAkpg5mvrAZ",
        "colab_type": "code",
        "colab": {}
      },
      "source": [
        "!apt-get install -y -qq glpk-utils"
      ],
      "execution_count": 34,
      "outputs": []
    },
    {
      "cell_type": "code",
      "metadata": {
        "id": "L9S8cOAVv8AO",
        "colab_type": "code",
        "colab": {
          "base_uri": "https://localhost:8080/",
          "height": 623
        },
        "outputId": "a8dfdde7-6231-467e-dbde-a5b7140de587"
      },
      "source": [
        "SolverFactory('glpk', executable='/usr/bin/glpsol').solve(model).write()"
      ],
      "execution_count": 35,
      "outputs": [
        {
          "output_type": "stream",
          "text": [
            "# ==========================================================\n",
            "# = Solver Results                                         =\n",
            "# ==========================================================\n",
            "# ----------------------------------------------------------\n",
            "#   Problem Information\n",
            "# ----------------------------------------------------------\n",
            "Problem: \n",
            "- Name: unknown\n",
            "  Lower bound: -991.166666666667\n",
            "  Upper bound: -991.166666666667\n",
            "  Number of objectives: 1\n",
            "  Number of constraints: 14\n",
            "  Number of variables: 8\n",
            "  Number of nonzeros: 27\n",
            "  Sense: minimize\n",
            "# ----------------------------------------------------------\n",
            "#   Solver Information\n",
            "# ----------------------------------------------------------\n",
            "Solver: \n",
            "- Status: ok\n",
            "  Termination condition: optimal\n",
            "  Statistics: \n",
            "    Branch and bound: \n",
            "      Number of bounded subproblems: 0\n",
            "      Number of created subproblems: 0\n",
            "  Error rc: 0\n",
            "  Time: 0.011199951171875\n",
            "# ----------------------------------------------------------\n",
            "#   Solution Information\n",
            "# ----------------------------------------------------------\n",
            "Solution: \n",
            "- number of solutions: 0\n",
            "  number of solutions displayed: 0\n"
          ],
          "name": "stdout"
        }
      ]
    },
    {
      "cell_type": "code",
      "metadata": {
        "id": "sMddYVxHIIz0",
        "colab_type": "code",
        "colab": {
          "base_uri": "https://localhost:8080/",
          "height": 476
        },
        "outputId": "2d49ee6e-14d5-437c-e7f2-e5f6fad30183"
      },
      "source": [
        "# display solution\n",
        "print('\\nCost = ', model.cost())\n",
        "\n",
        "print('\\nDecision Variables')\n",
        "print('x1 = ', model.x1())\n",
        "print('x2 = ', model.x2())\n",
        "print('x3 = ', model.x3())\n",
        "print('x4 = ', model.x4())\n",
        "print('x5 = ', model.x5())\n",
        "print('x6 = ', model.x6())\n",
        "print('x7 = ', model.x7()) \n",
        "\n",
        "print('\\nConstraints')\n",
        "print('Constraint 1 =',model.con1())\n",
        "print('Constraint 2 =',model.con2())\n",
        "print('Constraint 3 =',model.con3())\n",
        "print('Constraint 4 =',model.con4())\n",
        "print('Constraint 5 =',model.con5())\n",
        "print('Constraint 6 =',model.con6())\n",
        "print('Constraint 7 =',model.con7())\n",
        "print('Constraint 8 =',model.con8())\n",
        "print('Constraint 9 =',model.con9())\n",
        "print('Constraint 10 =',model.con10())\n",
        "print('Constraint 11=',model.con11())\n",
        "print('Constraint 12=',model.con12())\n",
        "\n"
      ],
      "execution_count": 38,
      "outputs": [
        {
          "output_type": "stream",
          "text": [
            "\n",
            "Cost =  -991.1666666666665\n",
            "\n",
            "Decision Variables\n",
            "x1 =  7.35\n",
            "x2 =  12.0\n",
            "x3 =  -10.0\n",
            "x4 =  91.4833333333333\n",
            "x5 =  9.0\n",
            "x6 =  80.5\n",
            "x7 =  9.66666666666667\n",
            "\n",
            "Constraints\n",
            "Constraint 1 = 199.99999999999997\n",
            "Constraint 2 = 19.35\n",
            "Constraint 3 = 150.0\n",
            "Constraint 4 = 20.0\n",
            "Constraint 5 = 10.000000000000007\n",
            "Constraint 6 = 7.35\n",
            "Constraint 7 = 12.0\n",
            "Constraint 8 = -10.0\n",
            "Constraint 9 = 91.4833333333333\n",
            "Constraint 10 = 9.0\n",
            "Constraint 11= 80.5\n",
            "Constraint 12= 9.66666666666667\n"
          ],
          "name": "stdout"
        }
      ]
    },
    {
      "cell_type": "markdown",
      "metadata": {
        "id": "-idaLr7mOohb",
        "colab_type": "text"
      },
      "source": [
        "(3) Report the objective function value , the value of all variables at the optimal point. \n",
        " \n",
        " The objective function value = -991.1666666666665\n",
        "\n",
        " The value of all variablesis   \n",
        " x1 =  7.35   \n",
        "x2 =  12.0     \n",
        "x3 =  -10.0        \n",
        "x4 =  91.4833333333333      \n",
        "x5 =  9.0      \n",
        "x6 =  80.5       \n",
        "x7 =  9.66666666666667  \n",
        "\n",
        "(4)  Report the constraint activities (the value of left hand side(LHS) in a constraint and if the constraint is satisfied)for first four constraints.\n",
        "\n",
        "Constraint 1 = 199.99999999999997    \n",
        "Constraint 2 = 19.35    \n",
        "Constraint 3 = 150.0     \n",
        "Constraint 4 = 20.0      \n",
        "\n"
      ]
    }
  ]
}