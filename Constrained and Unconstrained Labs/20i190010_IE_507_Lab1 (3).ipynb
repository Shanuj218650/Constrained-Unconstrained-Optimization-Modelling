{
  "nbformat": 4,
  "nbformat_minor": 0,
  "metadata": {
    "colab": {
      "name": "20i190010_IE 507_Lab1print(.ipynb",
      "provenance": [],
      "collapsed_sections": []
    },
    "kernelspec": {
      "name": "python3",
      "display_name": "Python 3"
    }
  },
  "cells": [
    {
      "cell_type": "code",
      "metadata": {
        "id": "oI73zqs0PT8m",
        "colab_type": "code",
        "colab": {
          "base_uri": "https://localhost:8080/",
          "height": 35
        },
        "outputId": "16661935-2bae-45b1-bd03-7889cb2ecf44"
      },
      "source": [
        "print('Hello IE 507')"
      ],
      "execution_count": 1,
      "outputs": [
        {
          "output_type": "stream",
          "text": [
            "Hello IE 507\n"
          ],
          "name": "stdout"
        }
      ]
    },
    {
      "cell_type": "code",
      "metadata": {
        "id": "WLFx9HEoPjwh",
        "colab_type": "code",
        "colab": {
          "base_uri": "https://localhost:8080/",
          "height": 90
        },
        "outputId": "9c396735-12a6-4442-9578-31bcb2761375"
      },
      "source": [
        "!pip install -q pyomo"
      ],
      "execution_count": 2,
      "outputs": [
        {
          "output_type": "stream",
          "text": [
            "\u001b[K     |████████████████████████████████| 9.0MB 2.7MB/s \n",
            "\u001b[K     |████████████████████████████████| 256kB 46.0MB/s \n",
            "\u001b[K     |████████████████████████████████| 51kB 6.5MB/s \n",
            "\u001b[K     |████████████████████████████████| 163kB 46.1MB/s \n",
            "\u001b[?25h"
          ],
          "name": "stdout"
        }
      ]
    },
    {
      "cell_type": "markdown",
      "metadata": {
        "id": "m9W0oDxVPq9E",
        "colab_type": "text"
      },
      "source": [
        "EXERCISE 3\n",
        "\n",
        "Keshar Industries produces two products that are sold as raw materials to companies manufacturing automobile partsand kitchen utilities. Based on an analysis of current inventory level and potential demand for the month of September 2020, the management of Keshar Industries has specified that the combined production for products P and Q should be at least 160 Kgs. Additionally, a major customer has placed an order for 45 Kgs of product P and 29 Kgs of product Q. Product P requires 1.25 hours of manufacturing time per Kg and product Q requires 45 minutes of manufacturing time per Kg. For the month of September 2020, 350 hours of manufacturing time are available. Keshar Industriesaims at satisfying these requirements at a minimum total production cost. Production costs are Rs45 per Kg for product P and Rs80 per Kg for product Q.\n",
        "\n",
        "The formulation of the above Problem is\n",
        "\n",
        "Let x1 be the number of product P and x2 be the number of product Q.\n",
        "\n",
        "Min 45x1 + 80x2\n",
        "\n",
        "s.t.\n",
        "\n",
        "x1 + x2 >=160\n",
        "\n",
        "x1>=45\n",
        "\n",
        "x2>=29\n",
        "\n",
        "1.25x1 + 0.75x2 <= 350\n",
        "\n",
        "\n"
      ]
    },
    {
      "cell_type": "code",
      "metadata": {
        "id": "cuKcKn43P_aL",
        "colab_type": "code",
        "colab": {}
      },
      "source": [
        "from pyomo.environ import*"
      ],
      "execution_count": 3,
      "outputs": []
    },
    {
      "cell_type": "code",
      "metadata": {
        "id": "WjGnRiXwQG9-",
        "colab_type": "code",
        "colab": {}
      },
      "source": [
        "#Create a model\n",
        "model=ConcreteModel()"
      ],
      "execution_count": 6,
      "outputs": []
    },
    {
      "cell_type": "code",
      "metadata": {
        "id": "hbI5ZFkaQPrN",
        "colab_type": "code",
        "colab": {}
      },
      "source": [
        "#Declare Decision Variables\n",
        "model.x1=Var(domain=Reals)\n",
        "model.x2=Var(domain=Reals)"
      ],
      "execution_count": 8,
      "outputs": []
    },
    {
      "cell_type": "code",
      "metadata": {
        "id": "fOYJqH3sQq4r",
        "colab_type": "code",
        "colab": {}
      },
      "source": [
        "#declare objective\n",
        "model.cost=Objective(expr=45*model.x1 + 80*model.x2,sense=minimize)"
      ],
      "execution_count": 9,
      "outputs": []
    },
    {
      "cell_type": "code",
      "metadata": {
        "id": "w3AnDhUKQ2HK",
        "colab_type": "code",
        "colab": {}
      },
      "source": [
        "#declare constraint\n",
        "model.con1=Constraint(expr=model.x1 + model.x2 >=160)\n",
        "model.con2=Constraint(expr=1.25*model.x1 + 0.75*model.x2 <=350)\n",
        "model.con3=Constraint(expr=model.x1 >=45)\n",
        "model.con4=Constraint(expr=model.x2 >=29)"
      ],
      "execution_count": 10,
      "outputs": []
    },
    {
      "cell_type": "code",
      "metadata": {
        "id": "aQFk0bKFRUFH",
        "colab_type": "code",
        "colab": {
          "base_uri": "https://localhost:8080/",
          "height": 531
        },
        "outputId": "5e054e4e-e41f-4210-c8e8-a91592d48908"
      },
      "source": [
        "#printing the model\n",
        "model.pprint()"
      ],
      "execution_count": 11,
      "outputs": [
        {
          "output_type": "stream",
          "text": [
            "2 Var Declarations\n",
            "    x1 : Size=1, Index=None\n",
            "        Key  : Lower : Value : Upper : Fixed : Stale : Domain\n",
            "        None :  None :  None :  None : False :  True :  Reals\n",
            "    x2 : Size=1, Index=None\n",
            "        Key  : Lower : Value : Upper : Fixed : Stale : Domain\n",
            "        None :  None :  None :  None : False :  True :  Reals\n",
            "\n",
            "1 Objective Declarations\n",
            "    cost : Size=1, Index=None, Active=True\n",
            "        Key  : Active : Sense    : Expression\n",
            "        None :   True : minimize : 45*x1 + 80*x2\n",
            "\n",
            "4 Constraint Declarations\n",
            "    con1 : Size=1, Index=None, Active=True\n",
            "        Key  : Lower : Body    : Upper : Active\n",
            "        None : 160.0 : x1 + x2 :  +Inf :   True\n",
            "    con2 : Size=1, Index=None, Active=True\n",
            "        Key  : Lower : Body              : Upper : Active\n",
            "        None :  -Inf : 1.25*x1 + 0.75*x2 : 350.0 :   True\n",
            "    con3 : Size=1, Index=None, Active=True\n",
            "        Key  : Lower : Body : Upper : Active\n",
            "        None :  45.0 :   x1 :  +Inf :   True\n",
            "    con4 : Size=1, Index=None, Active=True\n",
            "        Key  : Lower : Body : Upper : Active\n",
            "        None :  29.0 :   x2 :  +Inf :   True\n",
            "\n",
            "7 Declarations: x1 x2 cost con1 con2 con3 con4\n"
          ],
          "name": "stdout"
        }
      ]
    },
    {
      "cell_type": "code",
      "metadata": {
        "id": "zw042NCoRcsJ",
        "colab_type": "code",
        "colab": {
          "base_uri": "https://localhost:8080/",
          "height": 476
        },
        "outputId": "6329cc22-a1ab-4c77-d973-2fd6047867de"
      },
      "source": [
        "!apt-get install -y -qq glpk-utils"
      ],
      "execution_count": 12,
      "outputs": [
        {
          "output_type": "stream",
          "text": [
            "Selecting previously unselected package libsuitesparseconfig5:amd64.\n",
            "(Reading database ... \r(Reading database ... 5%\r(Reading database ... 10%\r(Reading database ... 15%\r(Reading database ... 20%\r(Reading database ... 25%\r(Reading database ... 30%\r(Reading database ... 35%\r(Reading database ... 40%\r(Reading database ... 45%\r(Reading database ... 50%\r(Reading database ... 55%\r(Reading database ... 60%\r(Reading database ... 65%\r(Reading database ... 70%\r(Reading database ... 75%\r(Reading database ... 80%\r(Reading database ... 85%\r(Reading database ... 90%\r(Reading database ... 95%\r(Reading database ... 100%\r(Reading database ... 144487 files and directories currently installed.)\n",
            "Preparing to unpack .../libsuitesparseconfig5_1%3a5.1.2-2_amd64.deb ...\n",
            "Unpacking libsuitesparseconfig5:amd64 (1:5.1.2-2) ...\n",
            "Selecting previously unselected package libamd2:amd64.\n",
            "Preparing to unpack .../libamd2_1%3a5.1.2-2_amd64.deb ...\n",
            "Unpacking libamd2:amd64 (1:5.1.2-2) ...\n",
            "Selecting previously unselected package libcolamd2:amd64.\n",
            "Preparing to unpack .../libcolamd2_1%3a5.1.2-2_amd64.deb ...\n",
            "Unpacking libcolamd2:amd64 (1:5.1.2-2) ...\n",
            "Selecting previously unselected package libglpk40:amd64.\n",
            "Preparing to unpack .../libglpk40_4.65-1_amd64.deb ...\n",
            "Unpacking libglpk40:amd64 (4.65-1) ...\n",
            "Selecting previously unselected package glpk-utils.\n",
            "Preparing to unpack .../glpk-utils_4.65-1_amd64.deb ...\n",
            "Unpacking glpk-utils (4.65-1) ...\n",
            "Setting up libsuitesparseconfig5:amd64 (1:5.1.2-2) ...\n",
            "Setting up libcolamd2:amd64 (1:5.1.2-2) ...\n",
            "Setting up libamd2:amd64 (1:5.1.2-2) ...\n",
            "Setting up libglpk40:amd64 (4.65-1) ...\n",
            "Setting up glpk-utils (4.65-1) ...\n",
            "Processing triggers for libc-bin (2.27-3ubuntu1) ...\n",
            "/sbin/ldconfig.real: /usr/local/lib/python3.6/dist-packages/ideep4py/lib/libmkldnn.so.0 is not a symbolic link\n",
            "\n",
            "Processing triggers for man-db (2.8.3-2ubuntu0.1) ...\n"
          ],
          "name": "stdout"
        }
      ]
    },
    {
      "cell_type": "code",
      "metadata": {
        "id": "XnZ1DJNkRooe",
        "colab_type": "code",
        "colab": {
          "base_uri": "https://localhost:8080/",
          "height": 623
        },
        "outputId": "f53bccbc-a104-47ae-a11a-0f807a52d635"
      },
      "source": [
        "SolverFactory('glpk', executable='/usr/bin/glpsol').solve(model).write()"
      ],
      "execution_count": 13,
      "outputs": [
        {
          "output_type": "stream",
          "text": [
            "# ==========================================================\n",
            "# = Solver Results                                         =\n",
            "# ==========================================================\n",
            "# ----------------------------------------------------------\n",
            "#   Problem Information\n",
            "# ----------------------------------------------------------\n",
            "Problem: \n",
            "- Name: unknown\n",
            "  Lower bound: 8215.0\n",
            "  Upper bound: 8215.0\n",
            "  Number of objectives: 1\n",
            "  Number of constraints: 5\n",
            "  Number of variables: 3\n",
            "  Number of nonzeros: 7\n",
            "  Sense: minimize\n",
            "# ----------------------------------------------------------\n",
            "#   Solver Information\n",
            "# ----------------------------------------------------------\n",
            "Solver: \n",
            "- Status: ok\n",
            "  Termination condition: optimal\n",
            "  Statistics: \n",
            "    Branch and bound: \n",
            "      Number of bounded subproblems: 0\n",
            "      Number of created subproblems: 0\n",
            "  Error rc: 0\n",
            "  Time: 0.010645151138305664\n",
            "# ----------------------------------------------------------\n",
            "#   Solution Information\n",
            "# ----------------------------------------------------------\n",
            "Solution: \n",
            "- number of solutions: 0\n",
            "  number of solutions displayed: 0\n"
          ],
          "name": "stdout"
        }
      ]
    },
    {
      "cell_type": "code",
      "metadata": {
        "id": "X2DPWU3LR-T9",
        "colab_type": "code",
        "colab": {
          "base_uri": "https://localhost:8080/",
          "height": 274
        },
        "outputId": "95d0b0ac-8edf-4e5c-fcd8-42dc83387112"
      },
      "source": [
        "#Display solutions\n",
        "print('\\ncost= ', model.cost ())\n",
        "\n",
        "print('\\nDecision Variables')\n",
        "print('\\nx1= ', model.x1 ())\n",
        "print('\\nx2= ', model.x2 ())\n",
        "\n",
        "print('\\nConstraints')\n",
        "print('Constraint 1  = ', model.con1())\n",
        "print('Constraint 2  = ', model.con2())\n",
        "print('Constraint 3  = ', model.con3())\n",
        "print('Constraint 4  = ', model.con4())"
      ],
      "execution_count": 14,
      "outputs": [
        {
          "output_type": "stream",
          "text": [
            "\n",
            "cost=  8215.0\n",
            "\n",
            "Decision Variables\n",
            "\n",
            "x1=  131.0\n",
            "\n",
            "x2=  29.0\n",
            "\n",
            "Constraints\n",
            "Constraint 1  =  160.0\n",
            "Constraint 2  =  185.5\n",
            "Constraint 3  =  131.0\n",
            "Constraint 4  =  29.0\n"
          ],
          "name": "stdout"
        }
      ]
    },
    {
      "cell_type": "markdown",
      "metadata": {
        "id": "DlQ0F4FQSz19",
        "colab_type": "text"
      },
      "source": [
        "(1) Formulate the problem as a linear problem\n",
        "\n",
        "Min 45x1 + 80x2\n",
        "\n",
        "s.t.\n",
        "\n",
        "45x1 + 29x2 >=160\n",
        "\n",
        "1.25x1 + 0.75x2 <= 350\n",
        "\n",
        "x1,x2 >=0\n",
        "\n",
        "(3) Report the optimal solution value,the values of the variable at the optimal solution and the activities of all constraints of the L.P. model\n",
        "\n",
        "The Optimal solution value is 160.0000000000002\n",
        "\n",
        "The values of the variables at optimal solution is\n",
        "\n",
        "x1= 3.55555555555556\n",
        "\n",
        "x2= 0.0\n",
        "\n",
        "The activity of the constraints is\n",
        "\n",
        "Constraint 1 = 160.0000000000002\n",
        "Constraint 2 = 4.44444444444445\n",
        "Constraint 3 = 3.55555555555556\n",
        "Constraint 4 = 0.0\n"
      ]
    },
    {
      "cell_type": "markdown",
      "metadata": {
        "id": "NKC62iN4S9di",
        "colab_type": "text"
      },
      "source": [
        "(4) Suppose a different customer has placed an order of 95 kgs of product P and 75 kgs of product Q. Introduce the new requirements into your information and explain how your linear program will change\n",
        "\n",
        "\n",
        "The new L.P. Model is \n",
        "\n",
        "Min 45x1 + 80x2\n",
        "\n",
        "s.t.\n",
        "\n",
        "x1 + x2 >=160\n",
        "\n",
        "x1>=95\n",
        "\n",
        "x2>=75\n",
        "\n",
        "1.25x1 + 0.75x2 <= 350"
      ]
    },
    {
      "cell_type": "code",
      "metadata": {
        "id": "CDiWX4u2TUjw",
        "colab_type": "code",
        "colab": {}
      },
      "source": [
        "from pyomo.environ import*"
      ],
      "execution_count": 16,
      "outputs": []
    },
    {
      "cell_type": "code",
      "metadata": {
        "id": "88gnXKB8TzPS",
        "colab_type": "code",
        "colab": {}
      },
      "source": [
        "#create a model\n",
        "model=ConcreteModel()"
      ],
      "execution_count": 17,
      "outputs": []
    },
    {
      "cell_type": "code",
      "metadata": {
        "id": "-rfsJPcQUCJ_",
        "colab_type": "code",
        "colab": {}
      },
      "source": [
        "#Declare Decision Variables\n",
        "model.x1=Var(domain=Reals)\n",
        "model.x2=Var(domain=Reals)"
      ],
      "execution_count": 18,
      "outputs": []
    },
    {
      "cell_type": "code",
      "metadata": {
        "id": "wZZPs2FbUILf",
        "colab_type": "code",
        "colab": {}
      },
      "source": [
        "#declare objective\n",
        "model.cost=Objective(expr=45*model.x1 + 80*model.x2,sense=minimize)"
      ],
      "execution_count": 19,
      "outputs": []
    },
    {
      "cell_type": "code",
      "metadata": {
        "id": "RoTsQ-LxUPai",
        "colab_type": "code",
        "colab": {}
      },
      "source": [
        "#dclare constraints\n",
        "model.con1=Constraint(expr=model.x1 + model.x2 >=160)\n",
        "model.con2=Constraint(expr=1.25*model.x1 + 0.75*model.x2 <=350)\n",
        "model.con3=Constraint(expr=model.x1 >=95)\n",
        "model.con4=Constraint(expr=model.x2 >=75)"
      ],
      "execution_count": 20,
      "outputs": []
    },
    {
      "cell_type": "code",
      "metadata": {
        "id": "GcTqNLtLUg_j",
        "colab_type": "code",
        "colab": {
          "base_uri": "https://localhost:8080/",
          "height": 531
        },
        "outputId": "db484037-e163-45a7-f44b-1c7c27e3c8e0"
      },
      "source": [
        "#printing the model\n",
        "model.pprint()"
      ],
      "execution_count": 21,
      "outputs": [
        {
          "output_type": "stream",
          "text": [
            "2 Var Declarations\n",
            "    x1 : Size=1, Index=None\n",
            "        Key  : Lower : Value : Upper : Fixed : Stale : Domain\n",
            "        None :  None :  None :  None : False :  True :  Reals\n",
            "    x2 : Size=1, Index=None\n",
            "        Key  : Lower : Value : Upper : Fixed : Stale : Domain\n",
            "        None :  None :  None :  None : False :  True :  Reals\n",
            "\n",
            "1 Objective Declarations\n",
            "    cost : Size=1, Index=None, Active=True\n",
            "        Key  : Active : Sense    : Expression\n",
            "        None :   True : minimize : 45*x1 + 80*x2\n",
            "\n",
            "4 Constraint Declarations\n",
            "    con1 : Size=1, Index=None, Active=True\n",
            "        Key  : Lower : Body    : Upper : Active\n",
            "        None : 160.0 : x1 + x2 :  +Inf :   True\n",
            "    con2 : Size=1, Index=None, Active=True\n",
            "        Key  : Lower : Body              : Upper : Active\n",
            "        None :  -Inf : 1.25*x1 + 0.75*x2 : 350.0 :   True\n",
            "    con3 : Size=1, Index=None, Active=True\n",
            "        Key  : Lower : Body : Upper : Active\n",
            "        None :  95.0 :   x1 :  +Inf :   True\n",
            "    con4 : Size=1, Index=None, Active=True\n",
            "        Key  : Lower : Body : Upper : Active\n",
            "        None :  75.0 :   x2 :  +Inf :   True\n",
            "\n",
            "7 Declarations: x1 x2 cost con1 con2 con3 con4\n"
          ],
          "name": "stdout"
        }
      ]
    },
    {
      "cell_type": "code",
      "metadata": {
        "id": "UExZZo7LVHdc",
        "colab_type": "code",
        "colab": {
          "base_uri": "https://localhost:8080/",
          "height": 623
        },
        "outputId": "ff8f57a7-1de7-4587-8270-5b4a5a47a69d"
      },
      "source": [
        "SolverFactory('glpk', executable='/usr/bin/glpsol').solve(model).write()"
      ],
      "execution_count": 27,
      "outputs": [
        {
          "output_type": "stream",
          "text": [
            "# ==========================================================\n",
            "# = Solver Results                                         =\n",
            "# ==========================================================\n",
            "# ----------------------------------------------------------\n",
            "#   Problem Information\n",
            "# ----------------------------------------------------------\n",
            "Problem: \n",
            "- Name: unknown\n",
            "  Lower bound: 10275.0\n",
            "  Upper bound: 10275.0\n",
            "  Number of objectives: 1\n",
            "  Number of constraints: 5\n",
            "  Number of variables: 3\n",
            "  Number of nonzeros: 7\n",
            "  Sense: minimize\n",
            "# ----------------------------------------------------------\n",
            "#   Solver Information\n",
            "# ----------------------------------------------------------\n",
            "Solver: \n",
            "- Status: ok\n",
            "  Termination condition: optimal\n",
            "  Statistics: \n",
            "    Branch and bound: \n",
            "      Number of bounded subproblems: 0\n",
            "      Number of created subproblems: 0\n",
            "  Error rc: 0\n",
            "  Time: 0.011998891830444336\n",
            "# ----------------------------------------------------------\n",
            "#   Solution Information\n",
            "# ----------------------------------------------------------\n",
            "Solution: \n",
            "- number of solutions: 0\n",
            "  number of solutions displayed: 0\n"
          ],
          "name": "stdout"
        }
      ]
    },
    {
      "cell_type": "code",
      "metadata": {
        "id": "fpnffPJPVes2",
        "colab_type": "code",
        "colab": {
          "base_uri": "https://localhost:8080/",
          "height": 274
        },
        "outputId": "cc6ad17e-cf98-4701-b6bc-47bf772a25c5"
      },
      "source": [
        "#display solution\n",
        "print('\\ncost= ', model.cost ())\n",
        "\n",
        "print('\\nDecision Variables')\n",
        "print('\\nx1= ', model.x1 ())\n",
        "print('\\nx2= ', model.x2 ())\n",
        "\n",
        "print('\\nConstraints')\n",
        "print('Constraint 1  = ', model.con1())\n",
        "print('Constraint 2  = ', model.con2())\n",
        "print('Constraint 3  = ', model.con3())\n",
        "print('Constraint 4  = ', model.con4())"
      ],
      "execution_count": 28,
      "outputs": [
        {
          "output_type": "stream",
          "text": [
            "\n",
            "cost=  10275.0\n",
            "\n",
            "Decision Variables\n",
            "\n",
            "x1=  95.0\n",
            "\n",
            "x2=  75.0\n",
            "\n",
            "Constraints\n",
            "Constraint 1  =  170.0\n",
            "Constraint 2  =  175.0\n",
            "Constraint 3  =  95.0\n",
            "Constraint 4  =  75.0\n"
          ],
          "name": "stdout"
        }
      ]
    },
    {
      "cell_type": "markdown",
      "metadata": {
        "id": "Cnci8GFBV3dp",
        "colab_type": "text"
      },
      "source": [
        "(6) Report  the  optimal  solution  value,  the  values  of  variables  at  the  optimal  solution  andthe activities of all constraints of the LP model.  Explain your observations about the resultsobtained.  Based on the results obtained, what would you advise Keshar Industries about thenew requirement?\n",
        "\n",
        "The optimal solution value is   10275.0\n",
        "\n",
        "The values of variables at optimal value\n",
        "\n",
        "x1=  95.0\n",
        "\n",
        "x2=  75.0\n",
        "\n",
        "The activities of constraints are \n",
        "\n",
        "Constraint 1  =  170.0   \n",
        "Constraint 2  =  175.0    \n",
        "Constraint 3  =  95.0    \n",
        "Constraint 4  =  75.0   "
      ]
    }
  ]
}